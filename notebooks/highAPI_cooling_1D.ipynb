{
 "cells": [
  {
   "cell_type": "markdown",
   "metadata": {},
   "source": [
    "# ADIOS2-Python-High-Level-MPI: Write Read Cooling Rod 1D\n",
    "\n"
   ]
  },
  {
   "cell_type": "markdown",
   "metadata": {},
   "source": [
    "## Writer: Generate Data\n",
    "    \n",
    "    We use a simple solution to the heat transfer equation in a (very-fast) 1D cooling rod.\n",
    "    "
   ]
  },
  {
   "cell_type": "code",
   "execution_count": 7,
   "metadata": {},
   "outputs": [],
   "source": [
    "from mpi4py import MPI\n",
    "import math\n",
    "import numpy as np\n",
    "import adios2\n",
    "\n",
    "\n",
    "def calcUxt(Uo, x, t):\n",
    "    return 4 * Uo / math.pi * math.sin(math.pi * x) * math.exp(- math.pi * math.pi * t)\n",
    "\n",
    "# Initialize MPI\n",
    "comm = MPI.COMM_WORLD\n",
    "rank = comm.Get_rank()\n",
    "size = comm.Get_size()\n",
    "\n",
    "# Initialize dimensions\n",
    "nx = 10\n",
    "\n",
    "shape = [size * nx]\n",
    "start = [rank * nx]\n",
    "count = [   1 * nx]\n",
    "\n",
    "# Initialize problem x coord, Uo, Uxt\n",
    "Lx = 1. \n",
    "Dx = 1./shape[0]\n",
    "x = np.full( (nx), 0. )\n",
    "for i in range(0,nx):\n",
    "    x[i] = start[0] + (i+0.5) * Dx\n",
    "\n",
    "# Make sure you use floats\n",
    "Uo = 1. \n",
    "Uxt = np.full( (nx), Uo)\n",
    "\n",
    "# Writer\n",
    "with adios2.open(\"Uxt.bp\", \"w\", comm) as fw:\n",
    "\n",
    "    for t in range(0, 5):\n",
    "        # We save \"x\" only once\n",
    "        if(t == 0):\n",
    "            fw.write(\"x\", x, shape, start, count)\n",
    "        else:\n",
    "            for i in range(0,nx):\n",
    "                Uxt[i] = calcUxt(Uo, x[i], t)\n",
    "                \n",
    "        fw.write(\"Uxt\", Uxt, shape, start, count, end_step=True)"
   ]
  },
  {
   "cell_type": "markdown",
   "metadata": {},
   "source": [
    "The data is saved in a bp file and subsfile directory structure. To access the data, the user doesn't need to manipulate these directly, but rather using the **bpls** command line utility for quick inspection. For example:"
   ]
  },
  {
   "cell_type": "code",
   "execution_count": 8,
   "metadata": {},
   "outputs": [
    {
     "name": "stdout",
     "output_type": "stream",
     "text": [
      "File info:\r\n",
      "  of variables:  2\r\n",
      "  of attributes: 0\r\n",
      "  statistics:    Min / Max \r\n",
      "\r\n",
      "  double   Uxt   5*{10} = 1.42555e-18 / 1\r\n",
      "    (0,0)    1 1 1 1 1 1 1 1 1 1\r\n",
      "    (1,0)    1.03021e-05 2.9898e-05 4.65672e-05 5.86781e-05 6.50452e-05 6.50452e-05 5.86781e-05 4.65672e-05 2.9898e-05 1.03021e-05\r\n",
      "    (2,0)    5.3286e-10 1.54642e-09 2.40861e-09 3.03502e-09 3.36435e-09 3.36435e-09 3.03502e-09 2.40861e-09 1.54642e-09 5.3286e-10\r\n",
      "    (3,0)    2.75612e-14 7.99858e-14 1.24581e-13 1.56981e-13 1.74015e-13 1.74015e-13 1.56981e-13 1.24581e-13 7.99858e-14 2.75612e-14\r\n",
      "    (4,0)    1.42555e-18 4.13712e-18 6.44371e-18 8.11955e-18 9.00059e-18 9.00059e-18 8.11955e-18 6.44371e-18 4.13712e-18 1.42555e-18\r\n",
      "\r\n",
      "  double   x     {10} = 0.05 / 0.95\r\n",
      "    (0)    0.05 0.15 0.25 0.35 0.45 0.55 0.65 0.75 0.85 0.95\r\n",
      "\r\n"
     ]
    }
   ],
   "source": [
    "!bpls Uxt.bp -lavd -n 10"
   ]
  },
  {
   "cell_type": "markdown",
   "metadata": {},
   "source": [
    "## Reader: Accessing and Understanding the Data"
   ]
  },
  {
   "cell_type": "code",
   "execution_count": 9,
   "metadata": {},
   "outputs": [
    {
     "data": {
      "image/png": "[encoded data removed]",
      "text/plain": [
       "<Figure size 432x288 with 1 Axes>"
      ]
     },
     "metadata": {
      "needs_background": "light"
     },
     "output_type": "display_data"
    }
   ],
   "source": [
    "from mpi4py import MPI\n",
    "import math\n",
    "import numpy as np\n",
    "import adios2\n",
    "import matplotlib.pyplot as plt\n",
    "\n",
    "\n",
    "Uxt_plots = plt.subplots()\n",
    "\n",
    "with adios2.open(\"Uxt.bp\", \"r\", comm) as fr:\n",
    "\n",
    "    for fr_step in fr:\n",
    "\n",
    "        step = fr_step.current_step()\n",
    "        if(step == 0):\n",
    "            x = fr_step.read(\"x\")\n",
    "            \n",
    "        Uxt = fr_step.read(\"Uxt\")\n",
    "        \n",
    "        plt.semilogy(x, Uxt, label = \"Ux for time= \" + str(step))\n",
    "        \n",
    "legend = plt.legend(loc='best', shadow=True, fontsize='x-large')"
   ]
  }
 ],
 "metadata": {
  "kernelspec": {
   "display_name": "Python 3",
   "language": "python",
   "name": "python3"
  },
  "language_info": {
   "codemirror_mode": {
    "name": "ipython",
    "version": 3
   },
   "file_extension": ".py",
   "mimetype": "text/x-python",
   "name": "python",
   "nbconvert_exporter": "python",
   "pygments_lexer": "ipython3",
   "version": "3.7.1"
  }
 },
 "nbformat": 4,
 "nbformat_minor": 2
}
