{
 "cells": [
  {
   "cell_type": "markdown",
   "metadata": {},
   "source": [
    "# ADIOS2-Python-Low-Level-MPI: Write Read Global Values and Arrays"
   ]
  },
  {
   "cell_type": "markdown",
   "metadata": {},
   "source": [
    "## Writer: Generate Global Values and Arrays"
   ]
  },
  {
   "cell_type": "code",
   "execution_count": 6,
   "metadata": {},
   "outputs": [],
   "source": [
    "from mpi4py import MPI\n",
    "import numpy as np\n",
    "import adios2\n",
    "\n",
    "\n",
    "# Initialize MPI\n",
    "comm = MPI.COMM_WORLD\n",
    "rank = comm.Get_rank()\n",
    "size = comm.Get_size()\n",
    "\n",
    "# Initialize dimensions\n",
    "nx = 10\n",
    "nsteps = 3\n",
    "\n",
    "# Global array dimensions scattered across MPI nprocs\n",
    "shape = [size * nx]\n",
    "start = [rank * nx]\n",
    "count = [   1 * nx]\n",
    "\n",
    "\n",
    "# open adios2 file\n",
    "fw = adios2.open(\"variable_shapes.bp\", \"w\", comm)\n",
    "\n",
    "for step in range(0,3):\n",
    "    \n",
    "    #global variable that doesn't change\n",
    "    #save nsteps as a numpy array\n",
    "    if(step == 0):\n",
    "        fw.write(\"nsteps\", np.array(nsteps))\n",
    "        fw.write(\"size\", np.array(size))\n",
    "    \n",
    "    #global variable that changes over time\n",
    "    #save step as a string\n",
    "    fw.write(\"step\", str(step))\n",
    "    \n",
    "    # local values are independent quantities must be explicit\n",
    "    fw.write(\"rank\", np.array(rank), [adios2.LocalValueDim])\n",
    "    \n",
    "    # global array, there is a total shape, \n",
    "    # and a local \"window\" for each rank (start and count)\n",
    "    fw.write(\"GlobalArray\", np.arange(step, nx+step, dtype=np.float), shape, start, count, adios2.ConstantDims)\n",
    "    \n",
    "    # local array, no shape, no start offset\n",
    "    # only a local \"dimension\" for each rank (count)\n",
    "    fw.write(\"LocalArray\", np.arange(step, nx+step, dtype=np.int), [], [], count)\n",
    "    \n",
    "# always close if open if not in a with-as instruction\n",
    "fw.close()"
   ]
  },
  {
   "cell_type": "code",
   "execution_count": 7,
   "metadata": {},
   "outputs": [
    {
     "name": "stdout",
     "output_type": "stream",
     "text": [
      "File info:\r\n",
      "  of variables:  6\r\n",
      "  of attributes: 0\r\n",
      "  statistics:    Min / Max \r\n",
      "\r\n",
      "  double         GlobalArray  3*{10} = 0 / 11\r\n",
      "    (0,0)    0 1 2 3 4 5 6 7 8 9\r\n",
      "    (1,0)    1 2 3 4 5 6 7 8 9 10\r\n",
      "    (2,0)    2 3 4 5 6 7 8 9 10 11\r\n",
      "\r\n",
      "  long long int  LocalArray   3*[1]*{10} = 0 / 11\r\n",
      "        step 1: \r\n",
      "          block 0: [0:9] = 0 / 9\r\n",
      "    (0)    0 1 2 3 4 5 6 7 8 9\r\n",
      "        step 2: \r\n",
      "          block 0: [0:9] = 1 / 10\r\n",
      "    (0)    1 2 3 4 5 6 7 8 9 10\r\n",
      "        step 3: \r\n",
      "          block 0: [0:9] = 2 / 11\r\n",
      "    (0)    2 3 4 5 6 7 8 9 10 11\r\n",
      "\r\n",
      "  long long int  nsteps       scalar = 3\r\n",
      "3 \r\n",
      "\r\n",
      "  long long int  rank         3*{1} = 0 / 0\r\n",
      "    (0,0)    0 0 0 \r\n",
      "\r\n",
      "  long long int  size         scalar = 1\r\n",
      "1 \r\n",
      "\r\n",
      "  string         step         3*scalar = \"\" / \"\"\r\n",
      "    (0)    \"0\" \"1\" \"2\" \r\n",
      "\r\n"
     ]
    }
   ],
   "source": [
    "!bpls variable_shapes.bp -lavd -n 10"
   ]
  },
  {
   "cell_type": "code",
   "execution_count": null,
   "metadata": {},
   "outputs": [],
   "source": []
  }
 ],
 "metadata": {
  "kernelspec": {
   "display_name": "Python [conda env:nb-openmpi] *",
   "language": "python",
   "name": "conda-env-nb-openmpi-py"
  },
  "language_info": {
   "codemirror_mode": {
    "name": "ipython",
    "version": 3
   },
   "file_extension": ".py",
   "mimetype": "text/x-python",
   "name": "python",
   "nbconvert_exporter": "python",
   "pygments_lexer": "ipython3",
   "version": "3.7.1"
  }
 },
 "nbformat": 4,
 "nbformat_minor": 2
}
