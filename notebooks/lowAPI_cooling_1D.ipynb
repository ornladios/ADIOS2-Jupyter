{
 "cells": [
  {
   "cell_type": "markdown",
   "metadata": {},
   "source": [
    "# ADIOS2-C++11-MPI: Write Read Cooling Rod 1D"
   ]
  },
  {
   "cell_type": "markdown",
   "metadata": {},
   "source": [
    "## Writer: Generate Data\n",
    "We use a simple solution to the heat transfer equation in a (very-fast) 1D cooling rod."
   ]
  },
  {
   "cell_type": "code",
   "execution_count": 1,
   "metadata": {},
   "outputs": [],
   "source": [
    "#include <cmath> //std::sin, std::exp\n",
    "#include <cstddef> //std::size_t\n",
    "\n",
    "#include <exception>\n",
    "#include <iostream> //std::cout\n",
    "#include <vector>\n",
    "#include <string>\n",
    "\n",
    "#pragma cling load(\"mpi.h\")\n",
    "#pragma cling load(\"mpi_cxx\")\n",
    "#pragma cling load(\"adios2\")\n",
    "\n",
    "#include <mpi.h>\n",
    "#include <adios2.h>\n",
    "\n",
    "constexpr double pi = 3.14159265358979323846;\n"
   ]
  },
  {
   "cell_type": "code",
   "execution_count": 2,
   "metadata": {},
   "outputs": [],
   "source": [
    "/**\n",
    " * Calculate U(Uo,x,t) -> f(initial value, location, time)\n",
    " */\n",
    "double calcUxt(const double Uo, const double x, const double t)\n",
    "{\n",
    "    return 4 * Uo / pi * std::sin( pi * x ) * std::exp( - pi * pi * t);\n",
    "}"
   ]
  },
  {
   "cell_type": "markdown",
   "metadata": {},
   "source": [
    "In xeus-cling we need a lambda function, typical C++ code will just use `main`"
   ]
  },
  {
   "cell_type": "code",
   "execution_count": 3,
   "metadata": {
    "scrolled": true
   },
   "outputs": [],
   "source": [
    "// int main(int argc, char* argv[] )\n",
    "[](){\n",
    "auto try_and_err = []() {\n",
    "\n",
    "    \n",
    "    MPI_Init(NULL, NULL);\n",
    "    int rank, size;\n",
    "    MPI_Comm_rank(MPI_COMM_WORLD, &rank);\n",
    "    MPI_Comm_size(MPI_COMM_WORLD, &size);\n",
    "    \n",
    "    try{\n",
    "        \n",
    "    \n",
    "        constexpr std::size_t Nx = 10;\n",
    "        const adios2::Dims shape{static_cast<std::size_t>(Nx * size)};\n",
    "        const adios2::Dims start{static_cast<std::size_t>(Nx * rank)};\n",
    "        const adios2::Dims count{Nx};\n",
    "        \n",
    "        //Initialize problem x coord as cell centered\n",
    "        constexpr   double Lx = 1.;\n",
    "        const       double dx = Lx/shape[0];\n",
    "        \n",
    "        // data x\n",
    "        std::vector<double> x(Nx,0);\n",
    "        for(auto i=0;i < Nx; ++i)\n",
    "        {\n",
    "            x[i] = start[0] + (i+0.5) * dx;\n",
    "        }\n",
    "        \n",
    "        // data U\n",
    "        constexpr double Uo = 1.;\n",
    "        std::vector<double> Uxt(Nx,Uo);\n",
    "        \n",
    "        //Initialize ADIOS2\n",
    "        adios2::ADIOS adios(MPI_COMM_WORLD, adios2::DebugON);\n",
    "        adios2::IO io = adios.DeclareIO(\"CoolingRod1D\");\n",
    "        \n",
    "        // Define some variables\n",
    "        adios2::Variable<double> var_x = \n",
    "            io.DefineVariable<double>(\"x\", shape, start, count, adios2::ConstantDims);\n",
    "        adios2::Variable<double> var_Uxt = \n",
    "            io.DefineVariable<double>(\"Uxt\", shape, start, count, adios2::ConstantDims);\n",
    "        \n",
    "        adios2::Engine fw = io.Open(\"Uxt.bp\", adios2::Mode::Write);\n",
    "        \n",
    "        for(auto t=0; t < 5; ++t )\n",
    "        {\n",
    "            //natural API for \"stepping\" variables, user doesn't need to track \"time\"\n",
    "            fw.BeginStep();\n",
    "            \n",
    "            //We save X only once at t == 0 \n",
    "            if(t==0)\n",
    "            {\n",
    "                fw.Put(var_x, x.data() ); //deferred mode, not saving here, but \"registering\"\n",
    "            }\n",
    "            \n",
    "            //computation\n",
    "            for(auto i = 0; i < Nx; ++i )\n",
    "            {\n",
    "                Uxt[i] = calcUxt(Uo, x[i], t);\n",
    "            }\n",
    "            \n",
    "            // I/O\n",
    "            fw.Put(var_Uxt, Uxt.data() );\n",
    "            \n",
    "            // x and Uxt are \"consumed\"/\"collected\" at EndStep\n",
    "            fw.EndStep();\n",
    "        }\n",
    "        // Close in C++ is optional as it's called by the adios destructor (RAII)\n",
    "        fw.Close();\n",
    "    }\n",
    "    catch(std::exception& e)\n",
    "    {\n",
    "        std::cout << \"Exception caught: \" << e.what() << \"\\n\";\n",
    "    }\n",
    "    \n",
    "};\n",
    "try_and_err();\n",
    "}();"
   ]
  },
  {
   "cell_type": "code",
   "execution_count": 4,
   "metadata": {},
   "outputs": [
    {
     "name": "stdout",
     "output_type": "stream",
     "text": [
      "File info:\n",
      "  of variables:  2\n",
      "  of attributes: 0\n",
      "  statistics:    Min / Max \n",
      "\n",
      "  double   Uxt   5*{10} = 1.42555e-18 / 1.25756\n",
      "    (0,0)    0.199179 0.578039 0.900316 1.13446 1.25756 1.25756 1.13446 0.900316 0.578039 0.199179\n",
      "    (1,0)    1.03021e-05 2.9898e-05 4.65672e-05 5.86781e-05 6.50452e-05 6.50452e-05 5.86781e-05 4.65672e-05 2.9898e-05 1.03021e-05\n",
      "    (2,0)    5.3286e-10 1.54642e-09 2.40861e-09 3.03502e-09 3.36435e-09 3.36435e-09 3.03502e-09 2.40861e-09 1.54642e-09 5.3286e-10\n",
      "    (3,0)    2.75612e-14 7.99858e-14 1.24581e-13 1.56981e-13 1.74015e-13 1.74015e-13 1.56981e-13 1.24581e-13 7.99858e-14 2.75612e-14\n",
      "    (4,0)    1.42555e-18 4.13712e-18 6.44371e-18 8.11955e-18 9.00059e-18 9.00059e-18 8.11955e-18 6.44371e-18 4.13712e-18 1.42555e-18\n",
      "\n",
      "  double   x     {10} = 0.05 / 0.95\n",
      "    (0)    0.05 0.15 0.25 0.35 0.45 0.55 0.65 0.75 0.85 0.95\n",
      "\n"
     ]
    }
   ],
   "source": [
    "!bpls Uxt.bp -lavd -n 10"
   ]
  },
  {
   "cell_type": "markdown",
   "metadata": {},
   "source": [
    "# Now we prepare to read the variables"
   ]
  },
  {
   "cell_type": "code",
   "execution_count": 5,
   "metadata": {},
   "outputs": [
    {
     "name": "stdout",
     "output_type": "stream",
     "text": [
      "Reading x in step: 0\n",
      "Reading Uxt in step: 0\n",
      "Reading Uxt in step: 1\n",
      "Reading Uxt in step: 2\n",
      "Reading Uxt in step: 3\n",
      "Reading Uxt in step: 4\n",
      "X 0.05     0.15     0.25     0.35     0.45     0.55     0.65     0.75     0.85     0.95     \n",
      "U(0) 0.199179 0.578039 0.900316 1.13446 1.25756 1.25756 1.13446 0.900316 0.578039 0.199179 \n",
      "U(1) 1.03021e-05 2.9898e-05 4.65672e-05 5.86781e-05 6.50452e-05 6.50452e-05 5.86781e-05 4.65672e-05 2.9898e-05 1.03021e-05 \n",
      "U(2) 5.3286e-10 1.54642e-09 2.40861e-09 3.03502e-09 3.36435e-09 3.36435e-09 3.03502e-09 2.40861e-09 1.54642e-09 5.3286e-10 \n",
      "U(3) 2.75612e-14 7.99858e-14 1.24581e-13 1.56981e-13 1.74015e-13 1.74015e-13 1.56981e-13 1.24581e-13 7.99858e-14 2.75612e-14 \n",
      "U(4) 1.42555e-18 4.13712e-18 6.44371e-18 8.11955e-18 9.00059e-18 9.00059e-18 8.11955e-18 6.44371e-18 4.13712e-18 1.42555e-18 \n"
     ]
    }
   ],
   "source": [
    "// int main(int argc, char* argv[] )\n",
    "[](){\n",
    "auto try_and_err = []() {\n",
    "    \n",
    "//     MPI_Init(NULL, NULL);\n",
    "//     int rank, size;\n",
    "//     MPI_Comm_rank(MPI_COMM_WORLD, &rank);\n",
    "//     MPI_Comm_size(MPI_COMM_WORLD, &size);\n",
    "    \n",
    "    try{\n",
    "        \n",
    "        //Initialize ADIOS2\n",
    "        adios2::ADIOS adios(MPI_COMM_SELF, adios2::DebugON);\n",
    "        adios2::IO io = adios.DeclareIO(\"CoolingRod1D\");\n",
    "        \n",
    "        adios2::Engine fr = io.Open(\"Uxt.bp\", adios2::Mode::Read);\n",
    "        \n",
    "        std::vector<double> data_x;\n",
    "        std::vector<std::vector<double>> data_Uxt;\n",
    "        \n",
    "        while( fr.BeginStep() == adios2::StepStatus::OK )\n",
    "        {\n",
    "            const size_t currentStep = fr.CurrentStep();\n",
    "            // Inquire some variables\n",
    "            adios2::Variable<double> var_x = io.InquireVariable<double>(\"x\");\n",
    "            adios2::Variable<double> var_Uxt = io.InquireVariable<double>(\"Uxt\");\n",
    "            \n",
    "            data_Uxt.push_back(std::vector<double>());\n",
    "            \n",
    "            //Gets are deferred until EndStep\n",
    "            if(var_x)\n",
    "            {\n",
    "                std::cout << \"Reading x in step: \" << currentStep << \"\\n\";\n",
    "                fr.Get(var_x, data_x);\n",
    "            }\n",
    "            if(var_Uxt)\n",
    "            {\n",
    "                fr.Get(var_Uxt, data_Uxt.back());\n",
    "                std::cout << \"Reading Uxt in step: \" << currentStep << \"\\n\";\n",
    "            }\n",
    "            \n",
    "            // data is retrieved\n",
    "            fr.EndStep();\n",
    "        }\n",
    "        fr.Close();\n",
    "        \n",
    "        // header\n",
    "        std::cout << \"X \";\n",
    "        for(auto i =0; i < data_x.size(); ++i)\n",
    "        {\n",
    "            std::cout << data_x[i] << \"     \";\n",
    "        }\n",
    "        std::cout << \"\\n\";\n",
    "        \n",
    "        for(auto s=0; s < data_Uxt.size(); ++s)\n",
    "        {\n",
    "            std::cout << \"U(\" << s << \") \";\n",
    "            for(auto i =0; i < data_x.size(); ++i)\n",
    "            {   \n",
    "                std::cout << data_Uxt[s][i] << \" \"; \n",
    "            }\n",
    "            std::cout << \"\\n\";\n",
    "        }\n",
    "    }\n",
    "    catch(std::exception& e)\n",
    "    {\n",
    "        std::cout << \"Exception caught: \" << e.what() << \"\\n\";\n",
    "    }\n",
    "    \n",
    "    MPI_Finalize();\n",
    "};\n",
    "try_and_err();\n",
    "}();"
   ]
  }
 ],
 "metadata": {
  "kernelspec": {
   "display_name": "C++11 [conda env:cling-openmpi]",
   "language": "C++11",
   "name": "conda-env-cling-openmpi-xeus-cling-cpp11"
  },
  "language_info": {
   "codemirror_mode": "text/x-c++src",
   "file_extension": ".cpp",
   "mimetype": "text/x-c++src",
   "name": "c++",
   "version": "-std=c++11"
  }
 },
 "nbformat": 4,
 "nbformat_minor": 2
}
