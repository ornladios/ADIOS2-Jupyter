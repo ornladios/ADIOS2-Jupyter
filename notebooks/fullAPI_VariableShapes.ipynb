{
 "cells": [
  {
   "cell_type": "markdown",
   "metadata": {},
   "source": [
    "# ADIOS2-Python-Full-API-MPI: Write Read Global Values and Arrays"
   ]
  },
  {
   "cell_type": "markdown",
   "metadata": {},
   "source": [
    "## Writer: Generate Global Values and Arrays"
   ]
  },
  {
   "cell_type": "code",
   "execution_count": 5,
   "metadata": {},
   "outputs": [],
   "source": [
    "from mpi4py import MPI\n",
    "import numpy as np\n",
    "import adios2\n",
    "\n",
    "\n",
    "# Initialize MPI\n",
    "comm = MPI.COMM_WORLD\n",
    "rank = comm.Get_rank()\n",
    "size = comm.Get_size()\n",
    "\n",
    "# Initialize dimensions\n",
    "nx = 10\n",
    "nsteps = 3\n",
    "\n",
    "# Global array dimensions scattered across MPI nprocs\n",
    "shape = [size * nx]\n",
    "start = [rank * nx]\n",
    "count = [   1 * nx]\n",
    "\n",
    "\n",
    "# initialize ADIOS2\n",
    "adios = adios2.ADIOS(comm)\n",
    "io = adios.DeclareIO(\"VariableShapes\")\n",
    "\n",
    "# dummy np arrays to inform adios2 of the type\n",
    "# Global values\n",
    "var_nsteps = io.DefineVariable(\"nsteps\", np.array([0], dtype=np.uint32))\n",
    "var_size = io.DefineVariable(\"size\", np.array([0], dtype=np.uint64))\n",
    "var_step = io.DefineVariable(\"step\") # string type\n",
    "# Local values\n",
    "var_rank = io.DefineVariable(\"rank\", np.array([0], dtype=np.uint32), [adios2.LocalValueDim])\n",
    "# Global array\n",
    "# global array, there is a total shape, \n",
    "# and a local \"window\" for each rank (start and count)\n",
    "var_global_array = io.DefineVariable(\"GlobalArray\", np.array([0], dtype=np.float64), shape, start, count)\n",
    "# Local array\n",
    "# local array, no shape, no start offset\n",
    "# only a local \"dimension\" for each rank (count)\n",
    "var_local_array = io.DefineVariable(\"LocalArray\", np.array([0], dtype=np.float32), [], [], count)\n",
    "\n",
    "io.DefineAttribute(\"Greeting\", \"Hello ERDC variables from ADIOS2\")\n",
    "\n",
    "fw = io.Open(\"variable_shapes.bp\", adios2.Mode.Write)\n",
    "\n",
    "for step in range(0,3):\n",
    "    \n",
    "    fw.BeginStep()\n",
    "    \n",
    "    #global variable that doesn't change\n",
    "    #save nsteps as a numpy array\n",
    "    if(step == 0):\n",
    "        fw.Put(var_nsteps, np.array(nsteps, dtype=np.uint32) )\n",
    "        fw.Put(var_size, np.array(size, dtype=np.uint64))\n",
    "    \n",
    "    #global variable that changes over time\n",
    "    #save step as a string\n",
    "    fw.Put(var_step, str(step))\n",
    "    \n",
    "    # local values are independent quantities must be explicit\n",
    "    # we can search for a variable name inside IO\n",
    "    fw.Put(var_rank, np.array(rank, dtype=np.uint32) )\n",
    "    fw.Put(var_global_array, np.arange(step, nx+step, dtype=np.float64))\n",
    "    fw.Put(var_local_array, np.arange(step, nx+step, dtype=np.float32))\n",
    "    \n",
    "    fw.EndStep()\n",
    "    \n",
    "\n",
    "# CLose is always a good practice\n",
    "fw.Close()"
   ]
  },
  {
   "cell_type": "code",
   "execution_count": 6,
   "metadata": {},
   "outputs": [
    {
     "name": "stdout",
     "output_type": "stream",
     "text": [
      "File info:\r\n",
      "  of variables:  6\r\n",
      "  of attributes: 1\r\n",
      "  statistics:    Min / Max \r\n",
      "\r\n",
      "  double                  GlobalArray  3*{10} = 0 / 11\r\n",
      "    (0,0)    0 1 2 3 4 5 6 7 8 9\r\n",
      "    (1,0)    1 2 3 4 5 6 7 8 9 10\r\n",
      "    (2,0)    2 3 4 5 6 7 8 9 10 11\r\n",
      "\r\n",
      "  string                  Greeting     attr   = \"Hello ERDC variables from ADIOS2\"\r\n",
      "  float                   LocalArray   3*[1]*{10} = 0 / 11\r\n",
      "        step 0: \r\n",
      "          block 0: [0:9] = 0 / 9\r\n",
      "    (0)    0 1 2 3 4 5 6 7 8 9\r\n",
      "        step 1: \r\n",
      "          block 0: [0:9] = 1 / 10\r\n",
      "    (0)    1 2 3 4 5 6 7 8 9 10\r\n",
      "        step 2: \r\n",
      "          block 0: [0:9] = 2 / 11\r\n",
      "    (0)    2 3 4 5 6 7 8 9 10 11\r\n",
      "\r\n",
      "  unsigned int            nsteps       scalar = 3\r\n",
      "3 \r\n",
      "\r\n",
      "  unsigned int            rank         3*{1} = 0 / 0\r\n",
      "    (0,0)    0 0 0 \r\n",
      "\r\n",
      "  unsigned long long int  size         scalar = 1\r\n",
      "1 \r\n",
      "\r\n",
      "  string                  step         3*scalar = \"\" / \"\"\r\n",
      "    (0)    \"0\" \"1\" \"2\" \r\n",
      "\r\n"
     ]
    }
   ],
   "source": [
    "!bpls variable_shapes.bp -lavd -n 10"
   ]
  },
  {
   "cell_type": "code",
   "execution_count": null,
   "metadata": {},
   "outputs": [],
   "source": []
  }
 ],
 "metadata": {
  "kernelspec": {
   "display_name": "Python [conda env:nb-openmpi] *",
   "language": "python",
   "name": "conda-env-nb-openmpi-py"
  },
  "language_info": {
   "codemirror_mode": {
    "name": "ipython",
    "version": 3
   },
   "file_extension": ".py",
   "mimetype": "text/x-python",
   "name": "python",
   "nbconvert_exporter": "python",
   "pygments_lexer": "ipython3",
   "version": "3.7.1"
  }
 },
 "nbformat": 4,
 "nbformat_minor": 2
}
